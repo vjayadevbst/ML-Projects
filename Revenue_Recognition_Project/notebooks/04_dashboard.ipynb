{
 "cells": [
  {
   "cell_type": "code",
   "execution_count": 1,
   "id": "4ddff799",
   "metadata": {},
   "outputs": [
    {
     "name": "stderr",
     "output_type": "stream",
     "text": [
      "2025-08-19 00:18:40.251 \n",
      "  \u001b[33m\u001b[1mWarning:\u001b[0m to view this Streamlit app on a browser, run it with the following\n",
      "  command:\n",
      "\n",
      "    streamlit run c:\\Users\\vinna\\anaconda3\\Lib\\site-packages\\ipykernel_launcher.py [ARGUMENTS]\n"
     ]
    },
    {
     "data": {
      "text/plain": [
       "DeltaGenerator()"
      ]
     },
     "execution_count": 1,
     "metadata": {},
     "output_type": "execute_result"
    }
   ],
   "source": [
    "import streamlit as st\n",
    "import pandas as pd\n",
    "import plotly.express as px\n",
    "\n",
    "df = pd.read_csv(r\"C:\\Users\\vinna\\OneDrive\\AI ML Projects\\V Projects\\Revenue_Recognition_Project\\data\\processed_data.csv\")\n",
    "\n",
    "st.title(\"📦 Shipment Delay Dashboard\")\n",
    "\n",
    "st.sidebar.header(\"Filter\")\n",
    "mode = st.sidebar.multiselect(\"Shipment Mode\", options=df['shipment_mode_enc'].unique(), default=None)\n",
    "\n",
    "if mode:\n",
    "    df = df[df['shipment_mode_enc'].isin(mode)]\n",
    "\n",
    "fig = px.histogram(df, x='delay_days', color='is_delayed', barmode='overlay')\n",
    "st.plotly_chart(fig)\n",
    "\n",
    "st.write(\"## Sample Data\")\n",
    "st.dataframe(df.head())"
   ]
  },
  {
   "cell_type": "code",
   "execution_count": null,
   "id": "e172cc0f",
   "metadata": {},
   "outputs": [],
   "source": []
  }
 ],
 "metadata": {
  "kernelspec": {
   "display_name": "base",
   "language": "python",
   "name": "python3"
  },
  "language_info": {
   "codemirror_mode": {
    "name": "ipython",
    "version": 3
   },
   "file_extension": ".py",
   "mimetype": "text/x-python",
   "name": "python",
   "nbconvert_exporter": "python",
   "pygments_lexer": "ipython3",
   "version": "3.12.7"
  }
 },
 "nbformat": 4,
 "nbformat_minor": 5
}
