{
 "cells": [
  {
   "cell_type": "code",
   "execution_count": 1,
   "id": "a5250988",
   "metadata": {},
   "outputs": [],
   "source": [
    "import pandas as pd\n",
    "import matplotlib.pyplot as plt\n",
    "import seaborn as sns"
   ]
  },
  {
   "cell_type": "code",
   "execution_count": 5,
   "id": "682a671e",
   "metadata": {},
   "outputs": [],
   "source": [
    "df = pd.read_csv(r\"C:\\Users\\vinna\\OneDrive\\AI ML Projects\\V Projects\\Revenue_Recognition_Project\\data\\raw_data.csv\")"
   ]
  },
  {
   "cell_type": "code",
   "execution_count": 6,
   "id": "522db6f2",
   "metadata": {},
   "outputs": [
    {
     "data": {
      "application/vnd.microsoft.datawrangler.viewer.v0+json": {
       "columns": [
        {
         "name": "index",
         "rawType": "int64",
         "type": "integer"
        },
        {
         "name": "shipment_id",
         "rawType": "object",
         "type": "string"
        },
        {
         "name": "customer_type",
         "rawType": "object",
         "type": "string"
        },
        {
         "name": "shipment_mode",
         "rawType": "object",
         "type": "string"
        },
        {
         "name": "product_category",
         "rawType": "object",
         "type": "string"
        },
        {
         "name": "planned_date",
         "rawType": "object",
         "type": "string"
        },
        {
         "name": "revenue",
         "rawType": "float64",
         "type": "float"
        },
        {
         "name": "delivered_date",
         "rawType": "object",
         "type": "string"
        },
        {
         "name": "is_delayed",
         "rawType": "int64",
         "type": "integer"
        }
       ],
       "ref": "56686570-db4f-4d40-a293-39e8ae1d0794",
       "rows": [
        [
         "0",
         "SH1000",
         "VIP",
         "Road",
         "Furniture",
         "2025-06-07",
         "13022.26",
         "2025-06-12",
         "0"
        ],
        [
         "1",
         "SH1001",
         "New",
         "Road",
         "Electronics",
         "2025-03-23",
         "3828.88",
         "2025-03-23",
         "0"
        ],
        [
         "2",
         "SH1002",
         "VIP",
         "Road",
         "Electronics",
         "2025-12-14",
         "20160.61",
         "2025-12-11",
         "0"
        ],
        [
         "3",
         "SH1003",
         "VIP",
         "Road",
         "Clothing",
         "2025-08-10",
         "12475.97",
         "2025-08-18",
         "0"
        ],
        [
         "4",
         "SH1004",
         "New",
         "Air",
         "Electronics",
         "2025-06-10",
         "11758.14",
         "2025-06-08",
         "0"
        ],
        [
         "5",
         "SH1005",
         "New",
         "Road",
         "Clothing",
         "2025-09-13",
         "48033.28",
         "2025-09-23",
         "0"
        ],
        [
         "6",
         "SH1006",
         "VIP",
         "Sea",
         "Clothing",
         "2025-06-12",
         "31198.72",
         "2025-06-12",
         "0"
        ],
        [
         "7",
         "SH1007",
         "Returning",
         "Sea",
         "Furniture",
         "2025-09-13",
         "28287.04",
         "2025-09-22",
         "0"
        ],
        [
         "8",
         "SH1008",
         "VIP",
         "Road",
         "Furniture",
         "2025-04-24",
         "21372.98",
         "2025-04-29",
         "1"
        ],
        [
         "9",
         "SH1009",
         "VIP",
         "Road",
         "Furniture",
         "2025-11-20",
         "22018.27",
         "2025-11-21",
         "0"
        ],
        [
         "10",
         "SH1010",
         "VIP",
         "Sea",
         "Clothing",
         "2025-02-26",
         "27504.35",
         "2025-02-26",
         "0"
        ],
        [
         "11",
         "SH1011",
         "VIP",
         "Sea",
         "Furniture",
         "2025-11-25",
         "35125.06",
         "2025-11-25",
         "0"
        ],
        [
         "12",
         "SH1012",
         "New",
         "Air",
         "Electronics",
         "2025-05-04",
         "35405.16",
         "2025-05-08",
         "0"
        ],
        [
         "13",
         "SH1013",
         "VIP",
         "Sea",
         "Electronics",
         "2025-02-01",
         "9413.0",
         "2025-02-03",
         "0"
        ],
        [
         "14",
         "SH1014",
         "Returning",
         "Sea",
         "Clothing",
         "2025-11-07",
         "25505.52",
         "2025-11-07",
         "0"
        ],
        [
         "15",
         "SH1015",
         "New",
         "Road",
         "Clothing",
         "2025-06-15",
         "21185.95",
         "2025-06-16",
         "0"
        ],
        [
         "16",
         "SH1016",
         "Returning",
         "Sea",
         "Furniture",
         "2025-02-24",
         "43655.82",
         "2025-02-26",
         "0"
        ],
        [
         "17",
         "SH1017",
         "Returning",
         "Air",
         "Clothing",
         "2025-11-20",
         "31939.53",
         "2025-11-12",
         "0"
        ],
        [
         "18",
         "SH1018",
         "Returning",
         "Sea",
         "Clothing",
         "2025-08-15",
         "27092.7",
         "2025-08-19",
         "0"
        ],
        [
         "19",
         "SH1019",
         "Returning",
         "Road",
         "Electronics",
         "2025-07-21",
         "6654.34",
         "2025-07-19",
         "0"
        ],
        [
         "20",
         "SH1020",
         "New",
         "Road",
         "Electronics",
         "2025-10-26",
         "30676.26",
         "2025-10-23",
         "0"
        ],
        [
         "21",
         "SH1021",
         "New",
         "Sea",
         "Furniture",
         "2025-12-24",
         "6742.99",
         "2025-12-18",
         "0"
        ],
        [
         "22",
         "SH1022",
         "Returning",
         "Road",
         "Clothing",
         "2025-09-05",
         "17523.12",
         "2025-08-30",
         "0"
        ],
        [
         "23",
         "SH1023",
         "Returning",
         "Air",
         "Clothing",
         "2025-10-21",
         "7999.26",
         "2025-10-17",
         "0"
        ],
        [
         "24",
         "SH1024",
         "New",
         "Air",
         "Electronics",
         "2025-02-05",
         "34911.61",
         "2025-02-04",
         "0"
        ],
        [
         "25",
         "SH1025",
         "New",
         "Sea",
         "Clothing",
         "2025-03-23",
         "11106.35",
         "2025-04-03",
         "1"
        ],
        [
         "26",
         "SH1026",
         "New",
         "Sea",
         "Electronics",
         "2025-10-05",
         "20201.11",
         "2025-10-05",
         "0"
        ],
        [
         "27",
         "SH1027",
         "VIP",
         "Sea",
         "Furniture",
         "2025-08-17",
         "44888.06",
         "2025-08-19",
         "0"
        ],
        [
         "28",
         "SH1028",
         "VIP",
         "Road",
         "Electronics",
         "2025-03-19",
         "11011.5",
         "2025-03-23",
         "0"
        ],
        [
         "29",
         "SH1029",
         "VIP",
         "Air",
         "Clothing",
         "2025-09-21",
         "25882.45",
         "2025-09-23",
         "0"
        ],
        [
         "30",
         "SH1030",
         "Returning",
         "Air",
         "Furniture",
         "2025-12-25",
         "21544.31",
         "2025-12-26",
         "0"
        ],
        [
         "31",
         "SH1031",
         "VIP",
         "Road",
         "Electronics",
         "2025-09-01",
         "1888.08",
         "2025-08-29",
         "0"
        ],
        [
         "32",
         "SH1032",
         "Returning",
         "Air",
         "Electronics",
         "2025-02-21",
         "39845.15",
         "2025-03-02",
         "1"
        ],
        [
         "33",
         "SH1033",
         "Returning",
         "Sea",
         "Furniture",
         "2025-04-10",
         "4383.25",
         "2025-04-21",
         "0"
        ],
        [
         "34",
         "SH1034",
         "VIP",
         "Sea",
         "Furniture",
         "2025-09-07",
         "24238.5",
         "2025-09-01",
         "0"
        ],
        [
         "35",
         "SH1035",
         "Returning",
         "Sea",
         "Electronics",
         "2025-06-23",
         "28473.24",
         "2025-06-20",
         "0"
        ],
        [
         "36",
         "SH1036",
         "VIP",
         "Air",
         "Clothing",
         "2025-01-17",
         "31792.9",
         "2025-01-17",
         "0"
        ],
        [
         "37",
         "SH1037",
         "VIP",
         "Sea",
         "Electronics",
         "2025-08-02",
         "34742.95",
         "2025-07-31",
         "0"
        ],
        [
         "38",
         "SH1038",
         "New",
         "Road",
         "Furniture",
         "2025-12-26",
         "13410.35",
         "2025-12-30",
         "1"
        ],
        [
         "39",
         "SH1039",
         "VIP",
         "Road",
         "Electronics",
         "2025-11-09",
         "1488.96",
         "2025-11-08",
         "0"
        ],
        [
         "40",
         "SH1040",
         "New",
         "Air",
         "Furniture",
         "2025-07-22",
         "36448.74",
         "2025-08-03",
         "1"
        ],
        [
         "41",
         "SH1041",
         "VIP",
         "Road",
         "Furniture",
         "2025-01-17",
         "27247.17",
         "2025-01-24",
         "0"
        ],
        [
         "42",
         "SH1042",
         "VIP",
         "Road",
         "Clothing",
         "2025-02-06",
         "41969.77",
         "2025-02-09",
         "0"
        ],
        [
         "43",
         "SH1043",
         "New",
         "Air",
         "Furniture",
         "2025-06-02",
         "41248.03",
         "2025-06-09",
         "0"
        ],
        [
         "44",
         "SH1044",
         "New",
         "Sea",
         "Furniture",
         "2025-01-10",
         "42322.98",
         "2025-01-17",
         "0"
        ],
        [
         "45",
         "SH1045",
         "VIP",
         "Sea",
         "Clothing",
         "2025-05-05",
         "24769.64",
         "2025-05-05",
         "0"
        ],
        [
         "46",
         "SH1046",
         "Returning",
         "Sea",
         "Furniture",
         "2025-02-22",
         "17347.79",
         "2025-02-20",
         "0"
        ],
        [
         "47",
         "SH1047",
         "New",
         "Air",
         "Clothing",
         "2025-09-02",
         "39786.35",
         "2025-09-04",
         "0"
        ],
        [
         "48",
         "SH1048",
         "Returning",
         "Road",
         "Clothing",
         "2025-10-02",
         "23113.41",
         "2025-10-08",
         "0"
        ],
        [
         "49",
         "SH1049",
         "Returning",
         "Sea",
         "Furniture",
         "2025-03-07",
         "9988.67",
         "2025-03-09",
         "0"
        ]
       ],
       "shape": {
        "columns": 8,
        "rows": 1000
       }
      },
      "text/html": [
       "<div>\n",
       "<style scoped>\n",
       "    .dataframe tbody tr th:only-of-type {\n",
       "        vertical-align: middle;\n",
       "    }\n",
       "\n",
       "    .dataframe tbody tr th {\n",
       "        vertical-align: top;\n",
       "    }\n",
       "\n",
       "    .dataframe thead th {\n",
       "        text-align: right;\n",
       "    }\n",
       "</style>\n",
       "<table border=\"1\" class=\"dataframe\">\n",
       "  <thead>\n",
       "    <tr style=\"text-align: right;\">\n",
       "      <th></th>\n",
       "      <th>shipment_id</th>\n",
       "      <th>customer_type</th>\n",
       "      <th>shipment_mode</th>\n",
       "      <th>product_category</th>\n",
       "      <th>planned_date</th>\n",
       "      <th>revenue</th>\n",
       "      <th>delivered_date</th>\n",
       "      <th>is_delayed</th>\n",
       "    </tr>\n",
       "  </thead>\n",
       "  <tbody>\n",
       "    <tr>\n",
       "      <th>0</th>\n",
       "      <td>SH1000</td>\n",
       "      <td>VIP</td>\n",
       "      <td>Road</td>\n",
       "      <td>Furniture</td>\n",
       "      <td>2025-06-07</td>\n",
       "      <td>13022.26</td>\n",
       "      <td>2025-06-12</td>\n",
       "      <td>0</td>\n",
       "    </tr>\n",
       "    <tr>\n",
       "      <th>1</th>\n",
       "      <td>SH1001</td>\n",
       "      <td>New</td>\n",
       "      <td>Road</td>\n",
       "      <td>Electronics</td>\n",
       "      <td>2025-03-23</td>\n",
       "      <td>3828.88</td>\n",
       "      <td>2025-03-23</td>\n",
       "      <td>0</td>\n",
       "    </tr>\n",
       "    <tr>\n",
       "      <th>2</th>\n",
       "      <td>SH1002</td>\n",
       "      <td>VIP</td>\n",
       "      <td>Road</td>\n",
       "      <td>Electronics</td>\n",
       "      <td>2025-12-14</td>\n",
       "      <td>20160.61</td>\n",
       "      <td>2025-12-11</td>\n",
       "      <td>0</td>\n",
       "    </tr>\n",
       "    <tr>\n",
       "      <th>3</th>\n",
       "      <td>SH1003</td>\n",
       "      <td>VIP</td>\n",
       "      <td>Road</td>\n",
       "      <td>Clothing</td>\n",
       "      <td>2025-08-10</td>\n",
       "      <td>12475.97</td>\n",
       "      <td>2025-08-18</td>\n",
       "      <td>0</td>\n",
       "    </tr>\n",
       "    <tr>\n",
       "      <th>4</th>\n",
       "      <td>SH1004</td>\n",
       "      <td>New</td>\n",
       "      <td>Air</td>\n",
       "      <td>Electronics</td>\n",
       "      <td>2025-06-10</td>\n",
       "      <td>11758.14</td>\n",
       "      <td>2025-06-08</td>\n",
       "      <td>0</td>\n",
       "    </tr>\n",
       "    <tr>\n",
       "      <th>...</th>\n",
       "      <td>...</td>\n",
       "      <td>...</td>\n",
       "      <td>...</td>\n",
       "      <td>...</td>\n",
       "      <td>...</td>\n",
       "      <td>...</td>\n",
       "      <td>...</td>\n",
       "      <td>...</td>\n",
       "    </tr>\n",
       "    <tr>\n",
       "      <th>995</th>\n",
       "      <td>SH1995</td>\n",
       "      <td>Returning</td>\n",
       "      <td>Air</td>\n",
       "      <td>Clothing</td>\n",
       "      <td>2025-10-10</td>\n",
       "      <td>32407.31</td>\n",
       "      <td>2025-10-09</td>\n",
       "      <td>0</td>\n",
       "    </tr>\n",
       "    <tr>\n",
       "      <th>996</th>\n",
       "      <td>SH1996</td>\n",
       "      <td>Returning</td>\n",
       "      <td>Road</td>\n",
       "      <td>Electronics</td>\n",
       "      <td>2025-12-19</td>\n",
       "      <td>23842.90</td>\n",
       "      <td>2025-12-13</td>\n",
       "      <td>0</td>\n",
       "    </tr>\n",
       "    <tr>\n",
       "      <th>997</th>\n",
       "      <td>SH1997</td>\n",
       "      <td>VIP</td>\n",
       "      <td>Sea</td>\n",
       "      <td>Electronics</td>\n",
       "      <td>2025-04-02</td>\n",
       "      <td>10306.87</td>\n",
       "      <td>2025-04-06</td>\n",
       "      <td>0</td>\n",
       "    </tr>\n",
       "    <tr>\n",
       "      <th>998</th>\n",
       "      <td>SH1998</td>\n",
       "      <td>VIP</td>\n",
       "      <td>Road</td>\n",
       "      <td>Furniture</td>\n",
       "      <td>2025-09-10</td>\n",
       "      <td>35385.18</td>\n",
       "      <td>2025-09-02</td>\n",
       "      <td>0</td>\n",
       "    </tr>\n",
       "    <tr>\n",
       "      <th>999</th>\n",
       "      <td>SH1999</td>\n",
       "      <td>New</td>\n",
       "      <td>Road</td>\n",
       "      <td>Furniture</td>\n",
       "      <td>2025-12-11</td>\n",
       "      <td>28266.77</td>\n",
       "      <td>2025-12-11</td>\n",
       "      <td>0</td>\n",
       "    </tr>\n",
       "  </tbody>\n",
       "</table>\n",
       "<p>1000 rows × 8 columns</p>\n",
       "</div>"
      ],
      "text/plain": [
       "    shipment_id customer_type shipment_mode product_category planned_date  \\\n",
       "0        SH1000           VIP          Road        Furniture   2025-06-07   \n",
       "1        SH1001           New          Road      Electronics   2025-03-23   \n",
       "2        SH1002           VIP          Road      Electronics   2025-12-14   \n",
       "3        SH1003           VIP          Road         Clothing   2025-08-10   \n",
       "4        SH1004           New           Air      Electronics   2025-06-10   \n",
       "..          ...           ...           ...              ...          ...   \n",
       "995      SH1995     Returning           Air         Clothing   2025-10-10   \n",
       "996      SH1996     Returning          Road      Electronics   2025-12-19   \n",
       "997      SH1997           VIP           Sea      Electronics   2025-04-02   \n",
       "998      SH1998           VIP          Road        Furniture   2025-09-10   \n",
       "999      SH1999           New          Road        Furniture   2025-12-11   \n",
       "\n",
       "      revenue delivered_date  is_delayed  \n",
       "0    13022.26     2025-06-12           0  \n",
       "1     3828.88     2025-03-23           0  \n",
       "2    20160.61     2025-12-11           0  \n",
       "3    12475.97     2025-08-18           0  \n",
       "4    11758.14     2025-06-08           0  \n",
       "..        ...            ...         ...  \n",
       "995  32407.31     2025-10-09           0  \n",
       "996  23842.90     2025-12-13           0  \n",
       "997  10306.87     2025-04-06           0  \n",
       "998  35385.18     2025-09-02           0  \n",
       "999  28266.77     2025-12-11           0  \n",
       "\n",
       "[1000 rows x 8 columns]"
      ]
     },
     "execution_count": 6,
     "metadata": {},
     "output_type": "execute_result"
    }
   ],
   "source": [
    "df"
   ]
  },
  {
   "cell_type": "code",
   "execution_count": 7,
   "id": "9dd4992f",
   "metadata": {},
   "outputs": [],
   "source": [
    "df['delivered_date'] = pd.to_datetime(df['delivered_date'])\n",
    "df['planned_date'] = pd.to_datetime(df['planned_date'])\n",
    "df['delay_days'] = (df['delivered_date'] - df['planned_date']).dt.days"
   ]
  },
  {
   "cell_type": "code",
   "execution_count": 8,
   "id": "dc9e8ece",
   "metadata": {},
   "outputs": [
    {
     "data": {
      "application/vnd.microsoft.datawrangler.viewer.v0+json": {
       "columns": [
        {
         "name": "index",
         "rawType": "int64",
         "type": "integer"
        },
        {
         "name": "delay_days",
         "rawType": "int64",
         "type": "integer"
        }
       ],
       "ref": "f788f411-8c97-4711-82f1-b9496fea3a7e",
       "rows": [
        [
         "0",
         "5"
        ],
        [
         "1",
         "0"
        ],
        [
         "2",
         "-3"
        ],
        [
         "3",
         "8"
        ],
        [
         "4",
         "-2"
        ],
        [
         "5",
         "10"
        ],
        [
         "6",
         "0"
        ],
        [
         "7",
         "9"
        ],
        [
         "8",
         "5"
        ],
        [
         "9",
         "1"
        ],
        [
         "10",
         "0"
        ],
        [
         "11",
         "0"
        ],
        [
         "12",
         "4"
        ],
        [
         "13",
         "2"
        ],
        [
         "14",
         "0"
        ],
        [
         "15",
         "1"
        ],
        [
         "16",
         "2"
        ],
        [
         "17",
         "-8"
        ],
        [
         "18",
         "4"
        ],
        [
         "19",
         "-2"
        ],
        [
         "20",
         "-3"
        ],
        [
         "21",
         "-6"
        ],
        [
         "22",
         "-6"
        ],
        [
         "23",
         "-4"
        ],
        [
         "24",
         "-1"
        ],
        [
         "25",
         "11"
        ],
        [
         "26",
         "0"
        ],
        [
         "27",
         "2"
        ],
        [
         "28",
         "4"
        ],
        [
         "29",
         "2"
        ],
        [
         "30",
         "1"
        ],
        [
         "31",
         "-3"
        ],
        [
         "32",
         "9"
        ],
        [
         "33",
         "11"
        ],
        [
         "34",
         "-6"
        ],
        [
         "35",
         "-3"
        ],
        [
         "36",
         "0"
        ],
        [
         "37",
         "-2"
        ],
        [
         "38",
         "4"
        ],
        [
         "39",
         "-1"
        ],
        [
         "40",
         "12"
        ],
        [
         "41",
         "7"
        ],
        [
         "42",
         "3"
        ],
        [
         "43",
         "7"
        ],
        [
         "44",
         "7"
        ],
        [
         "45",
         "0"
        ],
        [
         "46",
         "-2"
        ],
        [
         "47",
         "2"
        ],
        [
         "48",
         "6"
        ],
        [
         "49",
         "2"
        ]
       ],
       "shape": {
        "columns": 1,
        "rows": 1000
       }
      },
      "text/plain": [
       "0      5\n",
       "1      0\n",
       "2     -3\n",
       "3      8\n",
       "4     -2\n",
       "      ..\n",
       "995   -1\n",
       "996   -6\n",
       "997    4\n",
       "998   -8\n",
       "999    0\n",
       "Name: delay_days, Length: 1000, dtype: int64"
      ]
     },
     "execution_count": 8,
     "metadata": {},
     "output_type": "execute_result"
    }
   ],
   "source": [
    "df['delay_days']"
   ]
  },
  {
   "cell_type": "code",
   "execution_count": 9,
   "id": "4937c940",
   "metadata": {},
   "outputs": [
    {
     "data": {
      "image/png": "[encoded data removed]",
      "text/plain": [
       "<Figure size 640x480 with 1 Axes>"
      ]
     },
     "metadata": {},
     "output_type": "display_data"
    }
   ],
   "source": [
    "sns.boxplot(x='shipment_mode', y='delay_days', data=df)\n",
    "plt.title(\"Shipment Mode vs Delay Days\")\n",
    "plt.show()"
   ]
  },
  {
   "cell_type": "code",
   "execution_count": 10,
   "id": "5adea706",
   "metadata": {},
   "outputs": [
    {
     "name": "stdout",
     "output_type": "stream",
     "text": [
      "is_delayed\n",
      "0    0.911\n",
      "1    0.089\n",
      "Name: proportion, dtype: float64\n"
     ]
    }
   ],
   "source": [
    "print(df['is_delayed'].value_counts(normalize=True))"
   ]
  },
  {
   "cell_type": "code",
   "execution_count": null,
   "id": "cdb79258",
   "metadata": {},
   "outputs": [],
   "source": []
  }
 ],
 "metadata": {
  "kernelspec": {
   "display_name": "base",
   "language": "python",
   "name": "python3"
  },
  "language_info": {
   "codemirror_mode": {
    "name": "ipython",
    "version": 3
   },
   "file_extension": ".py",
   "mimetype": "text/x-python",
   "name": "python",
   "nbconvert_exporter": "python",
   "pygments_lexer": "ipython3",
   "version": "3.12.7"
  }
 },
 "nbformat": 4,
 "nbformat_minor": 5
}
