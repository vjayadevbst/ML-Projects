{
 "cells": [
  {
   "cell_type": "code",
   "execution_count": 1,
   "id": "2e33c29e",
   "metadata": {},
   "outputs": [],
   "source": [
    "import pandas as pd"
   ]
  },
  {
   "cell_type": "code",
   "execution_count": 2,
   "id": "bc846c66",
   "metadata": {},
   "outputs": [
    {
     "data": {
      "application/vnd.microsoft.datawrangler.viewer.v0+json": {
       "columns": [
        {
         "name": "index",
         "rawType": "int64",
         "type": "integer"
        },
        {
         "name": "shipment_id",
         "rawType": "object",
         "type": "string"
        },
        {
         "name": "customer_type",
         "rawType": "object",
         "type": "string"
        },
        {
         "name": "shipment_mode",
         "rawType": "object",
         "type": "string"
        },
        {
         "name": "product_category",
         "rawType": "object",
         "type": "string"
        },
        {
         "name": "planned_date",
         "rawType": "object",
         "type": "string"
        },
        {
         "name": "revenue",
         "rawType": "float64",
         "type": "float"
        },
        {
         "name": "delivered_date",
         "rawType": "object",
         "type": "string"
        },
        {
         "name": "is_delayed",
         "rawType": "int64",
         "type": "integer"
        }
       ],
       "ref": "c9670dc5-76e8-48a4-abb5-5aaa47baf287",
       "rows": [
        [
         "0",
         "SH1000",
         "VIP",
         "Road",
         "Furniture",
         "2025-06-07",
         "13022.26",
         "2025-06-12",
         "0"
        ],
        [
         "1",
         "SH1001",
         "New",
         "Road",
         "Electronics",
         "2025-03-23",
         "3828.88",
         "2025-03-23",
         "0"
        ],
        [
         "2",
         "SH1002",
         "VIP",
         "Road",
         "Electronics",
         "2025-12-14",
         "20160.61",
         "2025-12-11",
         "0"
        ],
        [
         "3",
         "SH1003",
         "VIP",
         "Road",
         "Clothing",
         "2025-08-10",
         "12475.97",
         "2025-08-18",
         "0"
        ],
        [
         "4",
         "SH1004",
         "New",
         "Air",
         "Electronics",
         "2025-06-10",
         "11758.14",
         "2025-06-08",
         "0"
        ],
        [
         "5",
         "SH1005",
         "New",
         "Road",
         "Clothing",
         "2025-09-13",
         "48033.28",
         "2025-09-23",
         "0"
        ],
        [
         "6",
         "SH1006",
         "VIP",
         "Sea",
         "Clothing",
         "2025-06-12",
         "31198.72",
         "2025-06-12",
         "0"
        ],
        [
         "7",
         "SH1007",
         "Returning",
         "Sea",
         "Furniture",
         "2025-09-13",
         "28287.04",
         "2025-09-22",
         "0"
        ],
        [
         "8",
         "SH1008",
         "VIP",
         "Road",
         "Furniture",
         "2025-04-24",
         "21372.98",
         "2025-04-29",
         "1"
        ],
        [
         "9",
         "SH1009",
         "VIP",
         "Road",
         "Furniture",
         "2025-11-20",
         "22018.27",
         "2025-11-21",
         "0"
        ],
        [
         "10",
         "SH1010",
         "VIP",
         "Sea",
         "Clothing",
         "2025-02-26",
         "27504.35",
         "2025-02-26",
         "0"
        ],
        [
         "11",
         "SH1011",
         "VIP",
         "Sea",
         "Furniture",
         "2025-11-25",
         "35125.06",
         "2025-11-25",
         "0"
        ],
        [
         "12",
         "SH1012",
         "New",
         "Air",
         "Electronics",
         "2025-05-04",
         "35405.16",
         "2025-05-08",
         "0"
        ],
        [
         "13",
         "SH1013",
         "VIP",
         "Sea",
         "Electronics",
         "2025-02-01",
         "9413.0",
         "2025-02-03",
         "0"
        ],
        [
         "14",
         "SH1014",
         "Returning",
         "Sea",
         "Clothing",
         "2025-11-07",
         "25505.52",
         "2025-11-07",
         "0"
        ],
        [
         "15",
         "SH1015",
         "New",
         "Road",
         "Clothing",
         "2025-06-15",
         "21185.95",
         "2025-06-16",
         "0"
        ],
        [
         "16",
         "SH1016",
         "Returning",
         "Sea",
         "Furniture",
         "2025-02-24",
         "43655.82",
         "2025-02-26",
         "0"
        ],
        [
         "17",
         "SH1017",
         "Returning",
         "Air",
         "Clothing",
         "2025-11-20",
         "31939.53",
         "2025-11-12",
         "0"
        ],
        [
         "18",
         "SH1018",
         "Returning",
         "Sea",
         "Clothing",
         "2025-08-15",
         "27092.7",
         "2025-08-19",
         "0"
        ],
        [
         "19",
         "SH1019",
         "Returning",
         "Road",
         "Electronics",
         "2025-07-21",
         "6654.34",
         "2025-07-19",
         "0"
        ],
        [
         "20",
         "SH1020",
         "New",
         "Road",
         "Electronics",
         "2025-10-26",
         "30676.26",
         "2025-10-23",
         "0"
        ],
        [
         "21",
         "SH1021",
         "New",
         "Sea",
         "Furniture",
         "2025-12-24",
         "6742.99",
         "2025-12-18",
         "0"
        ],
        [
         "22",
         "SH1022",
         "Returning",
         "Road",
         "Clothing",
         "2025-09-05",
         "17523.12",
         "2025-08-30",
         "0"
        ],
        [
         "23",
         "SH1023",
         "Returning",
         "Air",
         "Clothing",
         "2025-10-21",
         "7999.26",
         "2025-10-17",
         "0"
        ],
        [
         "24",
         "SH1024",
         "New",
         "Air",
         "Electronics",
         "2025-02-05",
         "34911.61",
         "2025-02-04",
         "0"
        ],
        [
         "25",
         "SH1025",
         "New",
         "Sea",
         "Clothing",
         "2025-03-23",
         "11106.35",
         "2025-04-03",
         "1"
        ],
        [
         "26",
         "SH1026",
         "New",
         "Sea",
         "Electronics",
         "2025-10-05",
         "20201.11",
         "2025-10-05",
         "0"
        ],
        [
         "27",
         "SH1027",
         "VIP",
         "Sea",
         "Furniture",
         "2025-08-17",
         "44888.06",
         "2025-08-19",
         "0"
        ],
        [
         "28",
         "SH1028",
         "VIP",
         "Road",
         "Electronics",
         "2025-03-19",
         "11011.5",
         "2025-03-23",
         "0"
        ],
        [
         "29",
         "SH1029",
         "VIP",
         "Air",
         "Clothing",
         "2025-09-21",
         "25882.45",
         "2025-09-23",
         "0"
        ],
        [
         "30",
         "SH1030",
         "Returning",
         "Air",
         "Furniture",
         "2025-12-25",
         "21544.31",
         "2025-12-26",
         "0"
        ],
        [
         "31",
         "SH1031",
         "VIP",
         "Road",
         "Electronics",
         "2025-09-01",
         "1888.08",
         "2025-08-29",
         "0"
        ],
        [
         "32",
         "SH1032",
         "Returning",
         "Air",
         "Electronics",
         "2025-02-21",
         "39845.15",
         "2025-03-02",
         "1"
        ],
        [
         "33",
         "SH1033",
         "Returning",
         "Sea",
         "Furniture",
         "2025-04-10",
         "4383.25",
         "2025-04-21",
         "0"
        ],
        [
         "34",
         "SH1034",
         "VIP",
         "Sea",
         "Furniture",
         "2025-09-07",
         "24238.5",
         "2025-09-01",
         "0"
        ],
        [
         "35",
         "SH1035",
         "Returning",
         "Sea",
         "Electronics",
         "2025-06-23",
         "28473.24",
         "2025-06-20",
         "0"
        ],
        [
         "36",
         "SH1036",
         "VIP",
         "Air",
         "Clothing",
         "2025-01-17",
         "31792.9",
         "2025-01-17",
         "0"
        ],
        [
         "37",
         "SH1037",
         "VIP",
         "Sea",
         "Electronics",
         "2025-08-02",
         "34742.95",
         "2025-07-31",
         "0"
        ],
        [
         "38",
         "SH1038",
         "New",
         "Road",
         "Furniture",
         "2025-12-26",
         "13410.35",
         "2025-12-30",
         "1"
        ],
        [
         "39",
         "SH1039",
         "VIP",
         "Road",
         "Electronics",
         "2025-11-09",
         "1488.96",
         "2025-11-08",
         "0"
        ],
        [
         "40",
         "SH1040",
         "New",
         "Air",
         "Furniture",
         "2025-07-22",
         "36448.74",
         "2025-08-03",
         "1"
        ],
        [
         "41",
         "SH1041",
         "VIP",
         "Road",
         "Furniture",
         "2025-01-17",
         "27247.17",
         "2025-01-24",
         "0"
        ],
        [
         "42",
         "SH1042",
         "VIP",
         "Road",
         "Clothing",
         "2025-02-06",
         "41969.77",
         "2025-02-09",
         "0"
        ],
        [
         "43",
         "SH1043",
         "New",
         "Air",
         "Furniture",
         "2025-06-02",
         "41248.03",
         "2025-06-09",
         "0"
        ],
        [
         "44",
         "SH1044",
         "New",
         "Sea",
         "Furniture",
         "2025-01-10",
         "42322.98",
         "2025-01-17",
         "0"
        ],
        [
         "45",
         "SH1045",
         "VIP",
         "Sea",
         "Clothing",
         "2025-05-05",
         "24769.64",
         "2025-05-05",
         "0"
        ],
        [
         "46",
         "SH1046",
         "Returning",
         "Sea",
         "Furniture",
         "2025-02-22",
         "17347.79",
         "2025-02-20",
         "0"
        ],
        [
         "47",
         "SH1047",
         "New",
         "Air",
         "Clothing",
         "2025-09-02",
         "39786.35",
         "2025-09-04",
         "0"
        ],
        [
         "48",
         "SH1048",
         "Returning",
         "Road",
         "Clothing",
         "2025-10-02",
         "23113.41",
         "2025-10-08",
         "0"
        ],
        [
         "49",
         "SH1049",
         "Returning",
         "Sea",
         "Furniture",
         "2025-03-07",
         "9988.67",
         "2025-03-09",
         "0"
        ]
       ],
       "shape": {
        "columns": 8,
        "rows": 1000
       }
      },
      "text/html": [
       "<div>\n",
       "<style scoped>\n",
       "    .dataframe tbody tr th:only-of-type {\n",
       "        vertical-align: middle;\n",
       "    }\n",
       "\n",
       "    .dataframe tbody tr th {\n",
       "        vertical-align: top;\n",
       "    }\n",
       "\n",
       "    .dataframe thead th {\n",
       "        text-align: right;\n",
       "    }\n",
       "</style>\n",
       "<table border=\"1\" class=\"dataframe\">\n",
       "  <thead>\n",
       "    <tr style=\"text-align: right;\">\n",
       "      <th></th>\n",
       "      <th>shipment_id</th>\n",
       "      <th>customer_type</th>\n",
       "      <th>shipment_mode</th>\n",
       "      <th>product_category</th>\n",
       "      <th>planned_date</th>\n",
       "      <th>revenue</th>\n",
       "      <th>delivered_date</th>\n",
       "      <th>is_delayed</th>\n",
       "    </tr>\n",
       "  </thead>\n",
       "  <tbody>\n",
       "    <tr>\n",
       "      <th>0</th>\n",
       "      <td>SH1000</td>\n",
       "      <td>VIP</td>\n",
       "      <td>Road</td>\n",
       "      <td>Furniture</td>\n",
       "      <td>2025-06-07</td>\n",
       "      <td>13022.26</td>\n",
       "      <td>2025-06-12</td>\n",
       "      <td>0</td>\n",
       "    </tr>\n",
       "    <tr>\n",
       "      <th>1</th>\n",
       "      <td>SH1001</td>\n",
       "      <td>New</td>\n",
       "      <td>Road</td>\n",
       "      <td>Electronics</td>\n",
       "      <td>2025-03-23</td>\n",
       "      <td>3828.88</td>\n",
       "      <td>2025-03-23</td>\n",
       "      <td>0</td>\n",
       "    </tr>\n",
       "    <tr>\n",
       "      <th>2</th>\n",
       "      <td>SH1002</td>\n",
       "      <td>VIP</td>\n",
       "      <td>Road</td>\n",
       "      <td>Electronics</td>\n",
       "      <td>2025-12-14</td>\n",
       "      <td>20160.61</td>\n",
       "      <td>2025-12-11</td>\n",
       "      <td>0</td>\n",
       "    </tr>\n",
       "    <tr>\n",
       "      <th>3</th>\n",
       "      <td>SH1003</td>\n",
       "      <td>VIP</td>\n",
       "      <td>Road</td>\n",
       "      <td>Clothing</td>\n",
       "      <td>2025-08-10</td>\n",
       "      <td>12475.97</td>\n",
       "      <td>2025-08-18</td>\n",
       "      <td>0</td>\n",
       "    </tr>\n",
       "    <tr>\n",
       "      <th>4</th>\n",
       "      <td>SH1004</td>\n",
       "      <td>New</td>\n",
       "      <td>Air</td>\n",
       "      <td>Electronics</td>\n",
       "      <td>2025-06-10</td>\n",
       "      <td>11758.14</td>\n",
       "      <td>2025-06-08</td>\n",
       "      <td>0</td>\n",
       "    </tr>\n",
       "    <tr>\n",
       "      <th>...</th>\n",
       "      <td>...</td>\n",
       "      <td>...</td>\n",
       "      <td>...</td>\n",
       "      <td>...</td>\n",
       "      <td>...</td>\n",
       "      <td>...</td>\n",
       "      <td>...</td>\n",
       "      <td>...</td>\n",
       "    </tr>\n",
       "    <tr>\n",
       "      <th>995</th>\n",
       "      <td>SH1995</td>\n",
       "      <td>Returning</td>\n",
       "      <td>Air</td>\n",
       "      <td>Clothing</td>\n",
       "      <td>2025-10-10</td>\n",
       "      <td>32407.31</td>\n",
       "      <td>2025-10-09</td>\n",
       "      <td>0</td>\n",
       "    </tr>\n",
       "    <tr>\n",
       "      <th>996</th>\n",
       "      <td>SH1996</td>\n",
       "      <td>Returning</td>\n",
       "      <td>Road</td>\n",
       "      <td>Electronics</td>\n",
       "      <td>2025-12-19</td>\n",
       "      <td>23842.90</td>\n",
       "      <td>2025-12-13</td>\n",
       "      <td>0</td>\n",
       "    </tr>\n",
       "    <tr>\n",
       "      <th>997</th>\n",
       "      <td>SH1997</td>\n",
       "      <td>VIP</td>\n",
       "      <td>Sea</td>\n",
       "      <td>Electronics</td>\n",
       "      <td>2025-04-02</td>\n",
       "      <td>10306.87</td>\n",
       "      <td>2025-04-06</td>\n",
       "      <td>0</td>\n",
       "    </tr>\n",
       "    <tr>\n",
       "      <th>998</th>\n",
       "      <td>SH1998</td>\n",
       "      <td>VIP</td>\n",
       "      <td>Road</td>\n",
       "      <td>Furniture</td>\n",
       "      <td>2025-09-10</td>\n",
       "      <td>35385.18</td>\n",
       "      <td>2025-09-02</td>\n",
       "      <td>0</td>\n",
       "    </tr>\n",
       "    <tr>\n",
       "      <th>999</th>\n",
       "      <td>SH1999</td>\n",
       "      <td>New</td>\n",
       "      <td>Road</td>\n",
       "      <td>Furniture</td>\n",
       "      <td>2025-12-11</td>\n",
       "      <td>28266.77</td>\n",
       "      <td>2025-12-11</td>\n",
       "      <td>0</td>\n",
       "    </tr>\n",
       "  </tbody>\n",
       "</table>\n",
       "<p>1000 rows × 8 columns</p>\n",
       "</div>"
      ],
      "text/plain": [
       "    shipment_id customer_type shipment_mode product_category planned_date  \\\n",
       "0        SH1000           VIP          Road        Furniture   2025-06-07   \n",
       "1        SH1001           New          Road      Electronics   2025-03-23   \n",
       "2        SH1002           VIP          Road      Electronics   2025-12-14   \n",
       "3        SH1003           VIP          Road         Clothing   2025-08-10   \n",
       "4        SH1004           New           Air      Electronics   2025-06-10   \n",
       "..          ...           ...           ...              ...          ...   \n",
       "995      SH1995     Returning           Air         Clothing   2025-10-10   \n",
       "996      SH1996     Returning          Road      Electronics   2025-12-19   \n",
       "997      SH1997           VIP           Sea      Electronics   2025-04-02   \n",
       "998      SH1998           VIP          Road        Furniture   2025-09-10   \n",
       "999      SH1999           New          Road        Furniture   2025-12-11   \n",
       "\n",
       "      revenue delivered_date  is_delayed  \n",
       "0    13022.26     2025-06-12           0  \n",
       "1     3828.88     2025-03-23           0  \n",
       "2    20160.61     2025-12-11           0  \n",
       "3    12475.97     2025-08-18           0  \n",
       "4    11758.14     2025-06-08           0  \n",
       "..        ...            ...         ...  \n",
       "995  32407.31     2025-10-09           0  \n",
       "996  23842.90     2025-12-13           0  \n",
       "997  10306.87     2025-04-06           0  \n",
       "998  35385.18     2025-09-02           0  \n",
       "999  28266.77     2025-12-11           0  \n",
       "\n",
       "[1000 rows x 8 columns]"
      ]
     },
     "execution_count": 2,
     "metadata": {},
     "output_type": "execute_result"
    }
   ],
   "source": [
    "df = pd.read_csv(r\"C:\\Users\\vinna\\OneDrive\\AI ML Projects\\V Projects\\Revenue_Recognition_Project\\data\\raw_data.csv\")\n",
    "df"
   ]
  },
  {
   "cell_type": "code",
   "execution_count": 3,
   "id": "8687edce",
   "metadata": {},
   "outputs": [],
   "source": [
    "from sklearn.preprocessing import LabelEncoder"
   ]
  },
  {
   "cell_type": "code",
   "execution_count": 4,
   "id": "cbcae87c",
   "metadata": {},
   "outputs": [],
   "source": [
    "df['delivered_date'] = pd.to_datetime(df['delivered_date'], errors='coerce')\n",
    "df['planned_date'] = pd.to_datetime(df['planned_date'], errors='coerce')\n",
    "df['delay_days'] = (df['delivered_date'] - df['planned_date']).dt.days"
   ]
  },
  {
   "cell_type": "code",
   "execution_count": 13,
   "id": "ef4f723b",
   "metadata": {},
   "outputs": [
    {
     "data": {
      "application/vnd.microsoft.datawrangler.viewer.v0+json": {
       "columns": [
        {
         "name": "index",
         "rawType": "int64",
         "type": "integer"
        },
        {
         "name": "delay_days",
         "rawType": "int64",
         "type": "integer"
        }
       ],
       "ref": "af3c8866-ce92-42ea-b488-60f506b1588c",
       "rows": [
        [
         "0",
         "5"
        ],
        [
         "1",
         "0"
        ],
        [
         "2",
         "-3"
        ],
        [
         "3",
         "8"
        ],
        [
         "4",
         "-2"
        ],
        [
         "5",
         "10"
        ],
        [
         "6",
         "0"
        ],
        [
         "7",
         "9"
        ],
        [
         "8",
         "5"
        ],
        [
         "9",
         "1"
        ],
        [
         "10",
         "0"
        ],
        [
         "11",
         "0"
        ],
        [
         "12",
         "4"
        ],
        [
         "13",
         "2"
        ],
        [
         "14",
         "0"
        ],
        [
         "15",
         "1"
        ],
        [
         "16",
         "2"
        ],
        [
         "17",
         "-8"
        ],
        [
         "18",
         "4"
        ],
        [
         "19",
         "-2"
        ],
        [
         "20",
         "-3"
        ],
        [
         "21",
         "-6"
        ],
        [
         "22",
         "-6"
        ],
        [
         "23",
         "-4"
        ],
        [
         "24",
         "-1"
        ],
        [
         "25",
         "11"
        ],
        [
         "26",
         "0"
        ],
        [
         "27",
         "2"
        ],
        [
         "28",
         "4"
        ],
        [
         "29",
         "2"
        ],
        [
         "30",
         "1"
        ],
        [
         "31",
         "-3"
        ],
        [
         "32",
         "9"
        ],
        [
         "33",
         "11"
        ],
        [
         "34",
         "-6"
        ],
        [
         "35",
         "-3"
        ],
        [
         "36",
         "0"
        ],
        [
         "37",
         "-2"
        ],
        [
         "38",
         "4"
        ],
        [
         "39",
         "-1"
        ],
        [
         "40",
         "12"
        ],
        [
         "41",
         "7"
        ],
        [
         "42",
         "3"
        ],
        [
         "43",
         "7"
        ],
        [
         "44",
         "7"
        ],
        [
         "45",
         "0"
        ],
        [
         "46",
         "-2"
        ],
        [
         "47",
         "2"
        ],
        [
         "48",
         "6"
        ],
        [
         "49",
         "2"
        ]
       ],
       "shape": {
        "columns": 1,
        "rows": 1000
       }
      },
      "text/plain": [
       "0      5\n",
       "1      0\n",
       "2     -3\n",
       "3      8\n",
       "4     -2\n",
       "      ..\n",
       "995   -1\n",
       "996   -6\n",
       "997    4\n",
       "998   -8\n",
       "999    0\n",
       "Name: delay_days, Length: 1000, dtype: int64"
      ]
     },
     "execution_count": 13,
     "metadata": {},
     "output_type": "execute_result"
    }
   ],
   "source": [
    "df['delay_days'] "
   ]
  },
  {
   "cell_type": "code",
   "execution_count": 5,
   "id": "fb60ba74",
   "metadata": {},
   "outputs": [],
   "source": [
    "df['month'] = df['planned_date'].dt.month\n",
    "df['day_of_week'] = df['planned_date'].dt.dayofweek"
   ]
  },
  {
   "cell_type": "code",
   "execution_count": 15,
   "id": "77bca3ab",
   "metadata": {},
   "outputs": [
    {
     "data": {
      "application/vnd.microsoft.datawrangler.viewer.v0+json": {
       "columns": [
        {
         "name": "index",
         "rawType": "int64",
         "type": "integer"
        },
        {
         "name": "day_of_week",
         "rawType": "int32",
         "type": "integer"
        }
       ],
       "ref": "2120876a-61c9-4c83-9082-39308a676176",
       "rows": [
        [
         "0",
         "5"
        ],
        [
         "1",
         "6"
        ],
        [
         "2",
         "6"
        ],
        [
         "3",
         "6"
        ],
        [
         "4",
         "1"
        ],
        [
         "5",
         "5"
        ],
        [
         "6",
         "3"
        ],
        [
         "7",
         "5"
        ],
        [
         "8",
         "3"
        ],
        [
         "9",
         "3"
        ],
        [
         "10",
         "2"
        ],
        [
         "11",
         "1"
        ],
        [
         "12",
         "6"
        ],
        [
         "13",
         "5"
        ],
        [
         "14",
         "4"
        ],
        [
         "15",
         "6"
        ],
        [
         "16",
         "0"
        ],
        [
         "17",
         "3"
        ],
        [
         "18",
         "4"
        ],
        [
         "19",
         "0"
        ],
        [
         "20",
         "6"
        ],
        [
         "21",
         "2"
        ],
        [
         "22",
         "4"
        ],
        [
         "23",
         "1"
        ],
        [
         "24",
         "2"
        ],
        [
         "25",
         "6"
        ],
        [
         "26",
         "6"
        ],
        [
         "27",
         "6"
        ],
        [
         "28",
         "2"
        ],
        [
         "29",
         "6"
        ],
        [
         "30",
         "3"
        ],
        [
         "31",
         "0"
        ],
        [
         "32",
         "4"
        ],
        [
         "33",
         "3"
        ],
        [
         "34",
         "6"
        ],
        [
         "35",
         "0"
        ],
        [
         "36",
         "4"
        ],
        [
         "37",
         "5"
        ],
        [
         "38",
         "4"
        ],
        [
         "39",
         "6"
        ],
        [
         "40",
         "1"
        ],
        [
         "41",
         "4"
        ],
        [
         "42",
         "3"
        ],
        [
         "43",
         "0"
        ],
        [
         "44",
         "4"
        ],
        [
         "45",
         "0"
        ],
        [
         "46",
         "5"
        ],
        [
         "47",
         "1"
        ],
        [
         "48",
         "3"
        ],
        [
         "49",
         "4"
        ]
       ],
       "shape": {
        "columns": 1,
        "rows": 1000
       }
      },
      "text/plain": [
       "0      5\n",
       "1      6\n",
       "2      6\n",
       "3      6\n",
       "4      1\n",
       "      ..\n",
       "995    4\n",
       "996    4\n",
       "997    2\n",
       "998    2\n",
       "999    3\n",
       "Name: day_of_week, Length: 1000, dtype: int32"
      ]
     },
     "execution_count": 15,
     "metadata": {},
     "output_type": "execute_result"
    }
   ],
   "source": [
    "df['day_of_week']"
   ]
  },
  {
   "cell_type": "code",
   "execution_count": 6,
   "id": "41ab705a",
   "metadata": {},
   "outputs": [],
   "source": [
    "le = LabelEncoder()\n",
    "df['customer_type_enc'] = le.fit_transform(df['customer_type'])\n",
    "df['shipment_mode_enc'] = le.fit_transform(df['shipment_mode'])"
   ]
  },
  {
   "cell_type": "code",
   "execution_count": 7,
   "id": "97245fc9",
   "metadata": {},
   "outputs": [],
   "source": [
    "features = ['delay_days', 'month', 'day_of_week', 'customer_type_enc', 'shipment_mode_enc']"
   ]
  },
  {
   "cell_type": "code",
   "execution_count": 8,
   "id": "966c148e",
   "metadata": {},
   "outputs": [
    {
     "data": {
      "application/vnd.microsoft.datawrangler.viewer.v0+json": {
       "columns": [
        {
         "name": "index",
         "rawType": "int64",
         "type": "integer"
        },
        {
         "name": "delay_days",
         "rawType": "int64",
         "type": "integer"
        },
        {
         "name": "month",
         "rawType": "int32",
         "type": "integer"
        },
        {
         "name": "day_of_week",
         "rawType": "int32",
         "type": "integer"
        },
        {
         "name": "customer_type_enc",
         "rawType": "int32",
         "type": "integer"
        },
        {
         "name": "shipment_mode_enc",
         "rawType": "int32",
         "type": "integer"
        }
       ],
       "ref": "45483388-c37e-492c-aa85-3bfbc78d78b3",
       "rows": [
        [
         "0",
         "5",
         "6",
         "5",
         "2",
         "1"
        ],
        [
         "1",
         "0",
         "3",
         "6",
         "0",
         "1"
        ],
        [
         "2",
         "-3",
         "12",
         "6",
         "2",
         "1"
        ],
        [
         "3",
         "8",
         "8",
         "6",
         "2",
         "1"
        ],
        [
         "4",
         "-2",
         "6",
         "1",
         "0",
         "0"
        ],
        [
         "5",
         "10",
         "9",
         "5",
         "0",
         "1"
        ],
        [
         "6",
         "0",
         "6",
         "3",
         "2",
         "2"
        ],
        [
         "7",
         "9",
         "9",
         "5",
         "1",
         "2"
        ],
        [
         "8",
         "5",
         "4",
         "3",
         "2",
         "1"
        ],
        [
         "9",
         "1",
         "11",
         "3",
         "2",
         "1"
        ],
        [
         "10",
         "0",
         "2",
         "2",
         "2",
         "2"
        ],
        [
         "11",
         "0",
         "11",
         "1",
         "2",
         "2"
        ],
        [
         "12",
         "4",
         "5",
         "6",
         "0",
         "0"
        ],
        [
         "13",
         "2",
         "2",
         "5",
         "2",
         "2"
        ],
        [
         "14",
         "0",
         "11",
         "4",
         "1",
         "2"
        ],
        [
         "15",
         "1",
         "6",
         "6",
         "0",
         "1"
        ],
        [
         "16",
         "2",
         "2",
         "0",
         "1",
         "2"
        ],
        [
         "17",
         "-8",
         "11",
         "3",
         "1",
         "0"
        ],
        [
         "18",
         "4",
         "8",
         "4",
         "1",
         "2"
        ],
        [
         "19",
         "-2",
         "7",
         "0",
         "1",
         "1"
        ],
        [
         "20",
         "-3",
         "10",
         "6",
         "0",
         "1"
        ],
        [
         "21",
         "-6",
         "12",
         "2",
         "0",
         "2"
        ],
        [
         "22",
         "-6",
         "9",
         "4",
         "1",
         "1"
        ],
        [
         "23",
         "-4",
         "10",
         "1",
         "1",
         "0"
        ],
        [
         "24",
         "-1",
         "2",
         "2",
         "0",
         "0"
        ],
        [
         "25",
         "11",
         "3",
         "6",
         "0",
         "2"
        ],
        [
         "26",
         "0",
         "10",
         "6",
         "0",
         "2"
        ],
        [
         "27",
         "2",
         "8",
         "6",
         "2",
         "2"
        ],
        [
         "28",
         "4",
         "3",
         "2",
         "2",
         "1"
        ],
        [
         "29",
         "2",
         "9",
         "6",
         "2",
         "0"
        ],
        [
         "30",
         "1",
         "12",
         "3",
         "1",
         "0"
        ],
        [
         "31",
         "-3",
         "9",
         "0",
         "2",
         "1"
        ],
        [
         "32",
         "9",
         "2",
         "4",
         "1",
         "0"
        ],
        [
         "33",
         "11",
         "4",
         "3",
         "1",
         "2"
        ],
        [
         "34",
         "-6",
         "9",
         "6",
         "2",
         "2"
        ],
        [
         "35",
         "-3",
         "6",
         "0",
         "1",
         "2"
        ],
        [
         "36",
         "0",
         "1",
         "4",
         "2",
         "0"
        ],
        [
         "37",
         "-2",
         "8",
         "5",
         "2",
         "2"
        ],
        [
         "38",
         "4",
         "12",
         "4",
         "0",
         "1"
        ],
        [
         "39",
         "-1",
         "11",
         "6",
         "2",
         "1"
        ],
        [
         "40",
         "12",
         "7",
         "1",
         "0",
         "0"
        ],
        [
         "41",
         "7",
         "1",
         "4",
         "2",
         "1"
        ],
        [
         "42",
         "3",
         "2",
         "3",
         "2",
         "1"
        ],
        [
         "43",
         "7",
         "6",
         "0",
         "0",
         "0"
        ],
        [
         "44",
         "7",
         "1",
         "4",
         "0",
         "2"
        ],
        [
         "45",
         "0",
         "5",
         "0",
         "2",
         "2"
        ],
        [
         "46",
         "-2",
         "2",
         "5",
         "1",
         "2"
        ],
        [
         "47",
         "2",
         "9",
         "1",
         "0",
         "0"
        ],
        [
         "48",
         "6",
         "10",
         "3",
         "1",
         "1"
        ],
        [
         "49",
         "2",
         "3",
         "4",
         "1",
         "2"
        ]
       ],
       "shape": {
        "columns": 5,
        "rows": 1000
       }
      },
      "text/html": [
       "<div>\n",
       "<style scoped>\n",
       "    .dataframe tbody tr th:only-of-type {\n",
       "        vertical-align: middle;\n",
       "    }\n",
       "\n",
       "    .dataframe tbody tr th {\n",
       "        vertical-align: top;\n",
       "    }\n",
       "\n",
       "    .dataframe thead th {\n",
       "        text-align: right;\n",
       "    }\n",
       "</style>\n",
       "<table border=\"1\" class=\"dataframe\">\n",
       "  <thead>\n",
       "    <tr style=\"text-align: right;\">\n",
       "      <th></th>\n",
       "      <th>delay_days</th>\n",
       "      <th>month</th>\n",
       "      <th>day_of_week</th>\n",
       "      <th>customer_type_enc</th>\n",
       "      <th>shipment_mode_enc</th>\n",
       "    </tr>\n",
       "  </thead>\n",
       "  <tbody>\n",
       "    <tr>\n",
       "      <th>0</th>\n",
       "      <td>5</td>\n",
       "      <td>6</td>\n",
       "      <td>5</td>\n",
       "      <td>2</td>\n",
       "      <td>1</td>\n",
       "    </tr>\n",
       "    <tr>\n",
       "      <th>1</th>\n",
       "      <td>0</td>\n",
       "      <td>3</td>\n",
       "      <td>6</td>\n",
       "      <td>0</td>\n",
       "      <td>1</td>\n",
       "    </tr>\n",
       "    <tr>\n",
       "      <th>2</th>\n",
       "      <td>-3</td>\n",
       "      <td>12</td>\n",
       "      <td>6</td>\n",
       "      <td>2</td>\n",
       "      <td>1</td>\n",
       "    </tr>\n",
       "    <tr>\n",
       "      <th>3</th>\n",
       "      <td>8</td>\n",
       "      <td>8</td>\n",
       "      <td>6</td>\n",
       "      <td>2</td>\n",
       "      <td>1</td>\n",
       "    </tr>\n",
       "    <tr>\n",
       "      <th>4</th>\n",
       "      <td>-2</td>\n",
       "      <td>6</td>\n",
       "      <td>1</td>\n",
       "      <td>0</td>\n",
       "      <td>0</td>\n",
       "    </tr>\n",
       "    <tr>\n",
       "      <th>...</th>\n",
       "      <td>...</td>\n",
       "      <td>...</td>\n",
       "      <td>...</td>\n",
       "      <td>...</td>\n",
       "      <td>...</td>\n",
       "    </tr>\n",
       "    <tr>\n",
       "      <th>995</th>\n",
       "      <td>-1</td>\n",
       "      <td>10</td>\n",
       "      <td>4</td>\n",
       "      <td>1</td>\n",
       "      <td>0</td>\n",
       "    </tr>\n",
       "    <tr>\n",
       "      <th>996</th>\n",
       "      <td>-6</td>\n",
       "      <td>12</td>\n",
       "      <td>4</td>\n",
       "      <td>1</td>\n",
       "      <td>1</td>\n",
       "    </tr>\n",
       "    <tr>\n",
       "      <th>997</th>\n",
       "      <td>4</td>\n",
       "      <td>4</td>\n",
       "      <td>2</td>\n",
       "      <td>2</td>\n",
       "      <td>2</td>\n",
       "    </tr>\n",
       "    <tr>\n",
       "      <th>998</th>\n",
       "      <td>-8</td>\n",
       "      <td>9</td>\n",
       "      <td>2</td>\n",
       "      <td>2</td>\n",
       "      <td>1</td>\n",
       "    </tr>\n",
       "    <tr>\n",
       "      <th>999</th>\n",
       "      <td>0</td>\n",
       "      <td>12</td>\n",
       "      <td>3</td>\n",
       "      <td>0</td>\n",
       "      <td>1</td>\n",
       "    </tr>\n",
       "  </tbody>\n",
       "</table>\n",
       "<p>1000 rows × 5 columns</p>\n",
       "</div>"
      ],
      "text/plain": [
       "     delay_days  month  day_of_week  customer_type_enc  shipment_mode_enc\n",
       "0             5      6            5                  2                  1\n",
       "1             0      3            6                  0                  1\n",
       "2            -3     12            6                  2                  1\n",
       "3             8      8            6                  2                  1\n",
       "4            -2      6            1                  0                  0\n",
       "..          ...    ...          ...                ...                ...\n",
       "995          -1     10            4                  1                  0\n",
       "996          -6     12            4                  1                  1\n",
       "997           4      4            2                  2                  2\n",
       "998          -8      9            2                  2                  1\n",
       "999           0     12            3                  0                  1\n",
       "\n",
       "[1000 rows x 5 columns]"
      ]
     },
     "execution_count": 8,
     "metadata": {},
     "output_type": "execute_result"
    }
   ],
   "source": [
    "df[features]"
   ]
  },
  {
   "cell_type": "code",
   "execution_count": 9,
   "id": "68c7682e",
   "metadata": {},
   "outputs": [],
   "source": [
    "processed_df = df[features + ['is_delayed']]"
   ]
  },
  {
   "cell_type": "code",
   "execution_count": 10,
   "id": "7d4dba70",
   "metadata": {},
   "outputs": [
    {
     "data": {
      "application/vnd.microsoft.datawrangler.viewer.v0+json": {
       "columns": [
        {
         "name": "index",
         "rawType": "int64",
         "type": "integer"
        },
        {
         "name": "delay_days",
         "rawType": "int64",
         "type": "integer"
        },
        {
         "name": "month",
         "rawType": "int32",
         "type": "integer"
        },
        {
         "name": "day_of_week",
         "rawType": "int32",
         "type": "integer"
        },
        {
         "name": "customer_type_enc",
         "rawType": "int32",
         "type": "integer"
        },
        {
         "name": "shipment_mode_enc",
         "rawType": "int32",
         "type": "integer"
        },
        {
         "name": "is_delayed",
         "rawType": "int64",
         "type": "integer"
        }
       ],
       "ref": "97cb4b2f-ab61-4408-a164-f018290c3372",
       "rows": [
        [
         "0",
         "5",
         "6",
         "5",
         "2",
         "1",
         "0"
        ],
        [
         "1",
         "0",
         "3",
         "6",
         "0",
         "1",
         "0"
        ],
        [
         "2",
         "-3",
         "12",
         "6",
         "2",
         "1",
         "0"
        ],
        [
         "3",
         "8",
         "8",
         "6",
         "2",
         "1",
         "0"
        ],
        [
         "4",
         "-2",
         "6",
         "1",
         "0",
         "0",
         "0"
        ],
        [
         "5",
         "10",
         "9",
         "5",
         "0",
         "1",
         "0"
        ],
        [
         "6",
         "0",
         "6",
         "3",
         "2",
         "2",
         "0"
        ],
        [
         "7",
         "9",
         "9",
         "5",
         "1",
         "2",
         "0"
        ],
        [
         "8",
         "5",
         "4",
         "3",
         "2",
         "1",
         "1"
        ],
        [
         "9",
         "1",
         "11",
         "3",
         "2",
         "1",
         "0"
        ],
        [
         "10",
         "0",
         "2",
         "2",
         "2",
         "2",
         "0"
        ],
        [
         "11",
         "0",
         "11",
         "1",
         "2",
         "2",
         "0"
        ],
        [
         "12",
         "4",
         "5",
         "6",
         "0",
         "0",
         "0"
        ],
        [
         "13",
         "2",
         "2",
         "5",
         "2",
         "2",
         "0"
        ],
        [
         "14",
         "0",
         "11",
         "4",
         "1",
         "2",
         "0"
        ],
        [
         "15",
         "1",
         "6",
         "6",
         "0",
         "1",
         "0"
        ],
        [
         "16",
         "2",
         "2",
         "0",
         "1",
         "2",
         "0"
        ],
        [
         "17",
         "-8",
         "11",
         "3",
         "1",
         "0",
         "0"
        ],
        [
         "18",
         "4",
         "8",
         "4",
         "1",
         "2",
         "0"
        ],
        [
         "19",
         "-2",
         "7",
         "0",
         "1",
         "1",
         "0"
        ],
        [
         "20",
         "-3",
         "10",
         "6",
         "0",
         "1",
         "0"
        ],
        [
         "21",
         "-6",
         "12",
         "2",
         "0",
         "2",
         "0"
        ],
        [
         "22",
         "-6",
         "9",
         "4",
         "1",
         "1",
         "0"
        ],
        [
         "23",
         "-4",
         "10",
         "1",
         "1",
         "0",
         "0"
        ],
        [
         "24",
         "-1",
         "2",
         "2",
         "0",
         "0",
         "0"
        ],
        [
         "25",
         "11",
         "3",
         "6",
         "0",
         "2",
         "1"
        ],
        [
         "26",
         "0",
         "10",
         "6",
         "0",
         "2",
         "0"
        ],
        [
         "27",
         "2",
         "8",
         "6",
         "2",
         "2",
         "0"
        ],
        [
         "28",
         "4",
         "3",
         "2",
         "2",
         "1",
         "0"
        ],
        [
         "29",
         "2",
         "9",
         "6",
         "2",
         "0",
         "0"
        ],
        [
         "30",
         "1",
         "12",
         "3",
         "1",
         "0",
         "0"
        ],
        [
         "31",
         "-3",
         "9",
         "0",
         "2",
         "1",
         "0"
        ],
        [
         "32",
         "9",
         "2",
         "4",
         "1",
         "0",
         "1"
        ],
        [
         "33",
         "11",
         "4",
         "3",
         "1",
         "2",
         "0"
        ],
        [
         "34",
         "-6",
         "9",
         "6",
         "2",
         "2",
         "0"
        ],
        [
         "35",
         "-3",
         "6",
         "0",
         "1",
         "2",
         "0"
        ],
        [
         "36",
         "0",
         "1",
         "4",
         "2",
         "0",
         "0"
        ],
        [
         "37",
         "-2",
         "8",
         "5",
         "2",
         "2",
         "0"
        ],
        [
         "38",
         "4",
         "12",
         "4",
         "0",
         "1",
         "1"
        ],
        [
         "39",
         "-1",
         "11",
         "6",
         "2",
         "1",
         "0"
        ],
        [
         "40",
         "12",
         "7",
         "1",
         "0",
         "0",
         "1"
        ],
        [
         "41",
         "7",
         "1",
         "4",
         "2",
         "1",
         "0"
        ],
        [
         "42",
         "3",
         "2",
         "3",
         "2",
         "1",
         "0"
        ],
        [
         "43",
         "7",
         "6",
         "0",
         "0",
         "0",
         "0"
        ],
        [
         "44",
         "7",
         "1",
         "4",
         "0",
         "2",
         "0"
        ],
        [
         "45",
         "0",
         "5",
         "0",
         "2",
         "2",
         "0"
        ],
        [
         "46",
         "-2",
         "2",
         "5",
         "1",
         "2",
         "0"
        ],
        [
         "47",
         "2",
         "9",
         "1",
         "0",
         "0",
         "0"
        ],
        [
         "48",
         "6",
         "10",
         "3",
         "1",
         "1",
         "0"
        ],
        [
         "49",
         "2",
         "3",
         "4",
         "1",
         "2",
         "0"
        ]
       ],
       "shape": {
        "columns": 6,
        "rows": 1000
       }
      },
      "text/html": [
       "<div>\n",
       "<style scoped>\n",
       "    .dataframe tbody tr th:only-of-type {\n",
       "        vertical-align: middle;\n",
       "    }\n",
       "\n",
       "    .dataframe tbody tr th {\n",
       "        vertical-align: top;\n",
       "    }\n",
       "\n",
       "    .dataframe thead th {\n",
       "        text-align: right;\n",
       "    }\n",
       "</style>\n",
       "<table border=\"1\" class=\"dataframe\">\n",
       "  <thead>\n",
       "    <tr style=\"text-align: right;\">\n",
       "      <th></th>\n",
       "      <th>delay_days</th>\n",
       "      <th>month</th>\n",
       "      <th>day_of_week</th>\n",
       "      <th>customer_type_enc</th>\n",
       "      <th>shipment_mode_enc</th>\n",
       "      <th>is_delayed</th>\n",
       "    </tr>\n",
       "  </thead>\n",
       "  <tbody>\n",
       "    <tr>\n",
       "      <th>0</th>\n",
       "      <td>5</td>\n",
       "      <td>6</td>\n",
       "      <td>5</td>\n",
       "      <td>2</td>\n",
       "      <td>1</td>\n",
       "      <td>0</td>\n",
       "    </tr>\n",
       "    <tr>\n",
       "      <th>1</th>\n",
       "      <td>0</td>\n",
       "      <td>3</td>\n",
       "      <td>6</td>\n",
       "      <td>0</td>\n",
       "      <td>1</td>\n",
       "      <td>0</td>\n",
       "    </tr>\n",
       "    <tr>\n",
       "      <th>2</th>\n",
       "      <td>-3</td>\n",
       "      <td>12</td>\n",
       "      <td>6</td>\n",
       "      <td>2</td>\n",
       "      <td>1</td>\n",
       "      <td>0</td>\n",
       "    </tr>\n",
       "    <tr>\n",
       "      <th>3</th>\n",
       "      <td>8</td>\n",
       "      <td>8</td>\n",
       "      <td>6</td>\n",
       "      <td>2</td>\n",
       "      <td>1</td>\n",
       "      <td>0</td>\n",
       "    </tr>\n",
       "    <tr>\n",
       "      <th>4</th>\n",
       "      <td>-2</td>\n",
       "      <td>6</td>\n",
       "      <td>1</td>\n",
       "      <td>0</td>\n",
       "      <td>0</td>\n",
       "      <td>0</td>\n",
       "    </tr>\n",
       "    <tr>\n",
       "      <th>...</th>\n",
       "      <td>...</td>\n",
       "      <td>...</td>\n",
       "      <td>...</td>\n",
       "      <td>...</td>\n",
       "      <td>...</td>\n",
       "      <td>...</td>\n",
       "    </tr>\n",
       "    <tr>\n",
       "      <th>995</th>\n",
       "      <td>-1</td>\n",
       "      <td>10</td>\n",
       "      <td>4</td>\n",
       "      <td>1</td>\n",
       "      <td>0</td>\n",
       "      <td>0</td>\n",
       "    </tr>\n",
       "    <tr>\n",
       "      <th>996</th>\n",
       "      <td>-6</td>\n",
       "      <td>12</td>\n",
       "      <td>4</td>\n",
       "      <td>1</td>\n",
       "      <td>1</td>\n",
       "      <td>0</td>\n",
       "    </tr>\n",
       "    <tr>\n",
       "      <th>997</th>\n",
       "      <td>4</td>\n",
       "      <td>4</td>\n",
       "      <td>2</td>\n",
       "      <td>2</td>\n",
       "      <td>2</td>\n",
       "      <td>0</td>\n",
       "    </tr>\n",
       "    <tr>\n",
       "      <th>998</th>\n",
       "      <td>-8</td>\n",
       "      <td>9</td>\n",
       "      <td>2</td>\n",
       "      <td>2</td>\n",
       "      <td>1</td>\n",
       "      <td>0</td>\n",
       "    </tr>\n",
       "    <tr>\n",
       "      <th>999</th>\n",
       "      <td>0</td>\n",
       "      <td>12</td>\n",
       "      <td>3</td>\n",
       "      <td>0</td>\n",
       "      <td>1</td>\n",
       "      <td>0</td>\n",
       "    </tr>\n",
       "  </tbody>\n",
       "</table>\n",
       "<p>1000 rows × 6 columns</p>\n",
       "</div>"
      ],
      "text/plain": [
       "     delay_days  month  day_of_week  customer_type_enc  shipment_mode_enc  \\\n",
       "0             5      6            5                  2                  1   \n",
       "1             0      3            6                  0                  1   \n",
       "2            -3     12            6                  2                  1   \n",
       "3             8      8            6                  2                  1   \n",
       "4            -2      6            1                  0                  0   \n",
       "..          ...    ...          ...                ...                ...   \n",
       "995          -1     10            4                  1                  0   \n",
       "996          -6     12            4                  1                  1   \n",
       "997           4      4            2                  2                  2   \n",
       "998          -8      9            2                  2                  1   \n",
       "999           0     12            3                  0                  1   \n",
       "\n",
       "     is_delayed  \n",
       "0             0  \n",
       "1             0  \n",
       "2             0  \n",
       "3             0  \n",
       "4             0  \n",
       "..          ...  \n",
       "995           0  \n",
       "996           0  \n",
       "997           0  \n",
       "998           0  \n",
       "999           0  \n",
       "\n",
       "[1000 rows x 6 columns]"
      ]
     },
     "execution_count": 10,
     "metadata": {},
     "output_type": "execute_result"
    }
   ],
   "source": [
    "processed_df"
   ]
  },
  {
   "cell_type": "code",
   "execution_count": 11,
   "id": "515b19af",
   "metadata": {},
   "outputs": [],
   "source": [
    "path = r\"C:\\Users\\vinna\\OneDrive\\AI ML Projects\\V Projects\\Revenue_Recognition_Project\\data\\processed_data.csv\"\n",
    "processed_df.to_csv(path, index=False)"
   ]
  },
  {
   "cell_type": "code",
   "execution_count": null,
   "id": "cb0b86e9",
   "metadata": {},
   "outputs": [],
   "source": []
  }
 ],
 "metadata": {
  "kernelspec": {
   "display_name": "base",
   "language": "python",
   "name": "python3"
  },
  "language_info": {
   "codemirror_mode": {
    "name": "ipython",
    "version": 3
   },
   "file_extension": ".py",
   "mimetype": "text/x-python",
   "name": "python",
   "nbconvert_exporter": "python",
   "pygments_lexer": "ipython3",
   "version": "3.12.7"
  }
 },
 "nbformat": 4,
 "nbformat_minor": 5
}
